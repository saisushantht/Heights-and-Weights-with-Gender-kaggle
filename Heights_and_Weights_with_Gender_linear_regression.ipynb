{
  "nbformat": 4,
  "nbformat_minor": 0,
  "metadata": {
    "colab": {
      "name": "Heights and Weights with Gender-linear regression",
      "provenance": [],
      "authorship_tag": "ABX9TyNzZbEt1RBxNAWkXYC98lWo",
      "include_colab_link": true
    },
    "kernelspec": {
      "name": "python3",
      "display_name": "Python 3"
    }
  },
  "cells": [
    {
      "cell_type": "markdown",
      "metadata": {
        "id": "view-in-github",
        "colab_type": "text"
      },
      "source": [
        "<a href=\"https://colab.research.google.com/github/saisushantht/Heights-and-Weights-with-Gender-kaggle/blob/master/Heights_and_Weights_with_Gender_linear_regression.ipynb\" target=\"_parent\"><img src=\"https://colab.research.google.com/assets/colab-badge.svg\" alt=\"Open In Colab\"/></a>"
      ]
    },
    {
      "cell_type": "markdown",
      "metadata": {
        "id": "VtknESclfrjt",
        "colab_type": "text"
      },
      "source": [
        "With linear regression"
      ]
    },
    {
      "cell_type": "code",
      "metadata": {
        "id": "TRL9Ui1cYqM8",
        "colab_type": "code",
        "colab": {}
      },
      "source": [
        "import pandas as pd\n",
        "import numpy as np\n",
        "import matplotlib.pyplot as plt"
      ],
      "execution_count": 1,
      "outputs": []
    },
    {
      "cell_type": "markdown",
      "metadata": {
        "id": "x2CtvWDifyYZ",
        "colab_type": "text"
      },
      "source": [
        "importing the dataset from github"
      ]
    },
    {
      "cell_type": "code",
      "metadata": {
        "id": "aqNzTLAyZovh",
        "colab_type": "code",
        "colab": {
          "base_uri": "https://localhost:8080/",
          "height": 195
        },
        "outputId": "7675be20-bf87-4a9b-854f-b9f14eaae54d"
      },
      "source": [
        "dataset_url='https://raw.githubusercontent.com/saisushantht/Heights-and-Weights-with-Gender-kaggle/master/weight-height.csv'\n",
        "data = pd.read_csv(dataset_url)\n",
        "data.head()"
      ],
      "execution_count": 2,
      "outputs": [
        {
          "output_type": "execute_result",
          "data": {
            "text/html": [
              "<div>\n",
              "<style scoped>\n",
              "    .dataframe tbody tr th:only-of-type {\n",
              "        vertical-align: middle;\n",
              "    }\n",
              "\n",
              "    .dataframe tbody tr th {\n",
              "        vertical-align: top;\n",
              "    }\n",
              "\n",
              "    .dataframe thead th {\n",
              "        text-align: right;\n",
              "    }\n",
              "</style>\n",
              "<table border=\"1\" class=\"dataframe\">\n",
              "  <thead>\n",
              "    <tr style=\"text-align: right;\">\n",
              "      <th></th>\n",
              "      <th>Gender</th>\n",
              "      <th>Height</th>\n",
              "      <th>Weight</th>\n",
              "    </tr>\n",
              "  </thead>\n",
              "  <tbody>\n",
              "    <tr>\n",
              "      <th>0</th>\n",
              "      <td>Male</td>\n",
              "      <td>73.847017</td>\n",
              "      <td>241.893563</td>\n",
              "    </tr>\n",
              "    <tr>\n",
              "      <th>1</th>\n",
              "      <td>Male</td>\n",
              "      <td>68.781904</td>\n",
              "      <td>162.310473</td>\n",
              "    </tr>\n",
              "    <tr>\n",
              "      <th>2</th>\n",
              "      <td>Male</td>\n",
              "      <td>74.110105</td>\n",
              "      <td>212.740856</td>\n",
              "    </tr>\n",
              "    <tr>\n",
              "      <th>3</th>\n",
              "      <td>Male</td>\n",
              "      <td>71.730978</td>\n",
              "      <td>220.042470</td>\n",
              "    </tr>\n",
              "    <tr>\n",
              "      <th>4</th>\n",
              "      <td>Male</td>\n",
              "      <td>69.881796</td>\n",
              "      <td>206.349801</td>\n",
              "    </tr>\n",
              "  </tbody>\n",
              "</table>\n",
              "</div>"
            ],
            "text/plain": [
              "  Gender     Height      Weight\n",
              "0   Male  73.847017  241.893563\n",
              "1   Male  68.781904  162.310473\n",
              "2   Male  74.110105  212.740856\n",
              "3   Male  71.730978  220.042470\n",
              "4   Male  69.881796  206.349801"
            ]
          },
          "metadata": {
            "tags": []
          },
          "execution_count": 2
        }
      ]
    },
    {
      "cell_type": "markdown",
      "metadata": {
        "id": "wX8yOKhVbRK4",
        "colab_type": "text"
      },
      "source": [
        "Getting data Information"
      ]
    },
    {
      "cell_type": "code",
      "metadata": {
        "id": "o9ihnmzPZzZ9",
        "colab_type": "code",
        "colab": {
          "base_uri": "https://localhost:8080/",
          "height": 201
        },
        "outputId": "606ac6d9-9fc6-4431-9f0e-903555c6033c"
      },
      "source": [
        "data.info()                "
      ],
      "execution_count": 3,
      "outputs": [
        {
          "output_type": "stream",
          "text": [
            "<class 'pandas.core.frame.DataFrame'>\n",
            "RangeIndex: 10000 entries, 0 to 9999\n",
            "Data columns (total 3 columns):\n",
            " #   Column  Non-Null Count  Dtype  \n",
            "---  ------  --------------  -----  \n",
            " 0   Gender  10000 non-null  object \n",
            " 1   Height  10000 non-null  float64\n",
            " 2   Weight  10000 non-null  float64\n",
            "dtypes: float64(2), object(1)\n",
            "memory usage: 234.5+ KB\n"
          ],
          "name": "stdout"
        }
      ]
    },
    {
      "cell_type": "markdown",
      "metadata": {
        "id": "KjGpzA-OgCwu",
        "colab_type": "text"
      },
      "source": [
        "We have one object and two rows with float values in our data. "
      ]
    },
    {
      "cell_type": "markdown",
      "metadata": {
        "id": "IMBpCOTLadbg",
        "colab_type": "text"
      },
      "source": [
        "to get basic statistical information"
      ]
    },
    {
      "cell_type": "code",
      "metadata": {
        "id": "6nhRMwH-aVxu",
        "colab_type": "code",
        "colab": {
          "base_uri": "https://localhost:8080/",
          "height": 284
        },
        "outputId": "3df464ab-de0d-413a-af25-fb4ac32b6a9c"
      },
      "source": [
        "data.describe()"
      ],
      "execution_count": 4,
      "outputs": [
        {
          "output_type": "execute_result",
          "data": {
            "text/html": [
              "<div>\n",
              "<style scoped>\n",
              "    .dataframe tbody tr th:only-of-type {\n",
              "        vertical-align: middle;\n",
              "    }\n",
              "\n",
              "    .dataframe tbody tr th {\n",
              "        vertical-align: top;\n",
              "    }\n",
              "\n",
              "    .dataframe thead th {\n",
              "        text-align: right;\n",
              "    }\n",
              "</style>\n",
              "<table border=\"1\" class=\"dataframe\">\n",
              "  <thead>\n",
              "    <tr style=\"text-align: right;\">\n",
              "      <th></th>\n",
              "      <th>Height</th>\n",
              "      <th>Weight</th>\n",
              "    </tr>\n",
              "  </thead>\n",
              "  <tbody>\n",
              "    <tr>\n",
              "      <th>count</th>\n",
              "      <td>10000.000000</td>\n",
              "      <td>10000.000000</td>\n",
              "    </tr>\n",
              "    <tr>\n",
              "      <th>mean</th>\n",
              "      <td>66.367560</td>\n",
              "      <td>161.440357</td>\n",
              "    </tr>\n",
              "    <tr>\n",
              "      <th>std</th>\n",
              "      <td>3.847528</td>\n",
              "      <td>32.108439</td>\n",
              "    </tr>\n",
              "    <tr>\n",
              "      <th>min</th>\n",
              "      <td>54.263133</td>\n",
              "      <td>64.700127</td>\n",
              "    </tr>\n",
              "    <tr>\n",
              "      <th>25%</th>\n",
              "      <td>63.505620</td>\n",
              "      <td>135.818051</td>\n",
              "    </tr>\n",
              "    <tr>\n",
              "      <th>50%</th>\n",
              "      <td>66.318070</td>\n",
              "      <td>161.212928</td>\n",
              "    </tr>\n",
              "    <tr>\n",
              "      <th>75%</th>\n",
              "      <td>69.174262</td>\n",
              "      <td>187.169525</td>\n",
              "    </tr>\n",
              "    <tr>\n",
              "      <th>max</th>\n",
              "      <td>78.998742</td>\n",
              "      <td>269.989699</td>\n",
              "    </tr>\n",
              "  </tbody>\n",
              "</table>\n",
              "</div>"
            ],
            "text/plain": [
              "             Height        Weight\n",
              "count  10000.000000  10000.000000\n",
              "mean      66.367560    161.440357\n",
              "std        3.847528     32.108439\n",
              "min       54.263133     64.700127\n",
              "25%       63.505620    135.818051\n",
              "50%       66.318070    161.212928\n",
              "75%       69.174262    187.169525\n",
              "max       78.998742    269.989699"
            ]
          },
          "metadata": {
            "tags": []
          },
          "execution_count": 4
        }
      ]
    },
    {
      "cell_type": "markdown",
      "metadata": {
        "id": "s1BuyrO4at87",
        "colab_type": "text"
      },
      "source": [
        " to check if there are any null values in the data"
      ]
    },
    {
      "cell_type": "code",
      "metadata": {
        "id": "K4L50GblaZBd",
        "colab_type": "code",
        "colab": {
          "base_uri": "https://localhost:8080/",
          "height": 90
        },
        "outputId": "8659afdd-452a-484d-dadf-8a595e968a1a"
      },
      "source": [
        "data.isnull().sum()"
      ],
      "execution_count": 5,
      "outputs": [
        {
          "output_type": "execute_result",
          "data": {
            "text/plain": [
              "Gender    0\n",
              "Height    0\n",
              "Weight    0\n",
              "dtype: int64"
            ]
          },
          "metadata": {
            "tags": []
          },
          "execution_count": 5
        }
      ]
    },
    {
      "cell_type": "markdown",
      "metadata": {
        "id": "zqEK7j1pa77-",
        "colab_type": "text"
      },
      "source": [
        "Getting count of Gender in the Data"
      ]
    },
    {
      "cell_type": "code",
      "metadata": {
        "id": "1oR6BRwIaoWC",
        "colab_type": "code",
        "colab": {
          "base_uri": "https://localhost:8080/",
          "height": 72
        },
        "outputId": "0e897d3b-dd02-4905-bc24-4c3f6cba5916"
      },
      "source": [
        "data['Gender'].value_counts()"
      ],
      "execution_count": 6,
      "outputs": [
        {
          "output_type": "execute_result",
          "data": {
            "text/plain": [
              "Male      5000\n",
              "Female    5000\n",
              "Name: Gender, dtype: int64"
            ]
          },
          "metadata": {
            "tags": []
          },
          "execution_count": 6
        }
      ]
    },
    {
      "cell_type": "code",
      "metadata": {
        "id": "frJb136ZcUmb",
        "colab_type": "code",
        "colab": {
          "base_uri": "https://localhost:8080/",
          "height": 35
        },
        "outputId": "b2e208e4-d87c-48eb-e690-59dcb49e4bda"
      },
      "source": [
        "data.shape"
      ],
      "execution_count": 7,
      "outputs": [
        {
          "output_type": "execute_result",
          "data": {
            "text/plain": [
              "(10000, 3)"
            ]
          },
          "metadata": {
            "tags": []
          },
          "execution_count": 7
        }
      ]
    },
    {
      "cell_type": "markdown",
      "metadata": {
        "id": "UeUvbN8OgRcp",
        "colab_type": "text"
      },
      "source": [
        "Scatter Plot with Weight on y and  Height on x"
      ]
    },
    {
      "cell_type": "code",
      "metadata": {
        "id": "efdRRkZ8gMY2",
        "colab_type": "code",
        "colab": {
          "base_uri": "https://localhost:8080/",
          "height": 279
        },
        "outputId": "77311ba0-59f8-4883-90be-a81e6d4d2aad"
      },
      "source": [
        "data.plot(kind='scatter',x='Height',y='Weight');"
      ],
      "execution_count": 9,
      "outputs": [
        {
          "output_type": "display_data",
          "data": {
            "image/png": "[encoded data removed]",
            "text/plain": [
              "<Figure size 432x288 with 1 Axes>"
            ]
          },
          "metadata": {
            "tags": [],
            "needs_background": "light"
          }
        }
      ]
    },
    {
      "cell_type": "markdown",
      "metadata": {
        "id": "kqR03ZCdgeli",
        "colab_type": "text"
      },
      "source": [
        "there is  a Linear relation between Height and Weight.As Hieght increase weight increases."
      ]
    },
    {
      "cell_type": "markdown",
      "metadata": {
        "id": "w76T1udkg9ud",
        "colab_type": "text"
      },
      "source": [
        "Male and Female Separation on Scatter Plot"
      ]
    },
    {
      "cell_type": "code",
      "metadata": {
        "id": "ldkLbQoHgmZ7",
        "colab_type": "code",
        "colab": {
          "base_uri": "https://localhost:8080/",
          "height": 295
        },
        "outputId": "753f5e2d-c221-4cc8-cd78-20eb0241ef52"
      },
      "source": [
        "males=data[data['Gender']=='Male']\n",
        "females=data[data['Gender']=='Female']\n",
        "\n",
        "fig,ax = plt.subplots()\n",
        "males.plot(kind='scatter',x='Height',y='Weight',\n",
        "          ax=ax,color='blue',alpha=0.3,\n",
        "          title='Male and Female Populations')\n",
        "females.plot(kind='scatter',x='Height',y='Weight',\n",
        "          ax=ax,color='red',alpha=0.3,\n",
        "          title='Male and Female Populations');"
      ],
      "execution_count": 11,
      "outputs": [
        {
          "output_type": "display_data",
          "data": {
            "image/png": "[encoded data removed]",
            "text/plain": [
              "<Figure size 432x288 with 1 Axes>"
            ]
          },
          "metadata": {
            "tags": [],
            "needs_background": "light"
          }
        }
      ]
    },
    {
      "cell_type": "code",
      "metadata": {
        "id": "fa5gpFAwb0o9",
        "colab_type": "code",
        "colab": {
          "base_uri": "https://localhost:8080/",
          "height": 146
        },
        "outputId": "0dc9e6cc-c0aa-488b-f9f3-7ae9e40f4fcd"
      },
      "source": [
        "X = data.iloc[:, :-1].values\n",
        "X"
      ],
      "execution_count": 12,
      "outputs": [
        {
          "output_type": "execute_result",
          "data": {
            "text/plain": [
              "array([['Male', 73.847017017515],\n",
              "       ['Male', 68.78190404589029],\n",
              "       ['Male', 74.11010539178491],\n",
              "       ...,\n",
              "       ['Female', 63.8679922137577],\n",
              "       ['Female', 69.03424313073461],\n",
              "       ['Female', 61.944245879517204]], dtype=object)"
            ]
          },
          "metadata": {
            "tags": []
          },
          "execution_count": 12
        }
      ]
    },
    {
      "cell_type": "code",
      "metadata": {
        "id": "Tcw-P4KTceSU",
        "colab_type": "code",
        "colab": {
          "base_uri": "https://localhost:8080/",
          "height": 35
        },
        "outputId": "6b960efe-5622-488a-cb3b-a8a91682aec8"
      },
      "source": [
        "X.shape"
      ],
      "execution_count": 13,
      "outputs": [
        {
          "output_type": "execute_result",
          "data": {
            "text/plain": [
              "(10000, 2)"
            ]
          },
          "metadata": {
            "tags": []
          },
          "execution_count": 13
        }
      ]
    },
    {
      "cell_type": "code",
      "metadata": {
        "id": "opb5joY8cley",
        "colab_type": "code",
        "colab": {
          "base_uri": "https://localhost:8080/",
          "height": 35
        },
        "outputId": "3450828f-670c-4d1f-b7a1-4cf2c51960b7"
      },
      "source": [
        "Y=data.iloc[:,2].values\n",
        "Y.shape"
      ],
      "execution_count": 14,
      "outputs": [
        {
          "output_type": "execute_result",
          "data": {
            "text/plain": [
              "(10000,)"
            ]
          },
          "metadata": {
            "tags": []
          },
          "execution_count": 14
        }
      ]
    },
    {
      "cell_type": "code",
      "metadata": {
        "id": "NKSJuQDrctok",
        "colab_type": "code",
        "colab": {
          "base_uri": "https://localhost:8080/",
          "height": 54
        },
        "outputId": "82675b37-4450-4e67-c772-14a927d3a8af"
      },
      "source": [
        "Y"
      ],
      "execution_count": 15,
      "outputs": [
        {
          "output_type": "execute_result",
          "data": {
            "text/plain": [
              "array([241.89356318, 162.31047252, 212.74085556, ..., 128.47531878,\n",
              "       163.85246135, 113.64910268])"
            ]
          },
          "metadata": {
            "tags": []
          },
          "execution_count": 15
        }
      ]
    },
    {
      "cell_type": "markdown",
      "metadata": {
        "id": "4wUGeIyZbVKu",
        "colab_type": "text"
      },
      "source": [
        "# convert gender to number"
      ]
    },
    {
      "cell_type": "markdown",
      "metadata": {
        "id": "xo3dgGPgbsa7",
        "colab_type": "text"
      },
      "source": [
        "i.e convert all categorical values (text values) to numerical values.\n",
        "by using LabelEncoder"
      ]
    },
    {
      "cell_type": "code",
      "metadata": {
        "id": "YgwOllYPa2vj",
        "colab_type": "code",
        "colab": {}
      },
      "source": [
        "from sklearn.preprocessing import LabelEncoder\n",
        "en = LabelEncoder()\n",
        "X[:,0] = en.fit_transform(X[:,0])"
      ],
      "execution_count": 16,
      "outputs": []
    },
    {
      "cell_type": "code",
      "metadata": {
        "id": "Hj9wFVoRdGu7",
        "colab_type": "code",
        "colab": {
          "base_uri": "https://localhost:8080/",
          "height": 146
        },
        "outputId": "31c51a5e-1cbd-4282-b66b-173062689a20"
      },
      "source": [
        "X"
      ],
      "execution_count": 17,
      "outputs": [
        {
          "output_type": "execute_result",
          "data": {
            "text/plain": [
              "array([[1, 73.847017017515],\n",
              "       [1, 68.78190404589029],\n",
              "       [1, 74.11010539178491],\n",
              "       ...,\n",
              "       [0, 63.8679922137577],\n",
              "       [0, 69.03424313073461],\n",
              "       [0, 61.944245879517204]], dtype=object)"
            ]
          },
          "metadata": {
            "tags": []
          },
          "execution_count": 17
        }
      ]
    },
    {
      "cell_type": "markdown",
      "metadata": {
        "id": "LMDTZfUUdys_",
        "colab_type": "text"
      },
      "source": [
        "Splitting data into training set and test set"
      ]
    },
    {
      "cell_type": "code",
      "metadata": {
        "id": "L6LKPB4RdVU3",
        "colab_type": "code",
        "colab": {}
      },
      "source": [
        "from sklearn.model_selection import train_test_split\n",
        "X_train, X_test, Y_train, Y_test = train_test_split(X, Y, test_size=0.3) "
      ],
      "execution_count": 18,
      "outputs": []
    },
    {
      "cell_type": "code",
      "metadata": {
        "id": "aZ7Vb3utd8cV",
        "colab_type": "code",
        "colab": {
          "base_uri": "https://localhost:8080/",
          "height": 54
        },
        "outputId": "110064c7-9962-4582-dacc-9002435528c6"
      },
      "source": [
        "print(X_train.shape)\n",
        "print(X_test.shape)"
      ],
      "execution_count": 19,
      "outputs": [
        {
          "output_type": "stream",
          "text": [
            "(7000, 2)\n",
            "(3000, 2)\n"
          ],
          "name": "stdout"
        }
      ]
    },
    {
      "cell_type": "markdown",
      "metadata": {
        "id": "fLLdbL_2eMlE",
        "colab_type": "text"
      },
      "source": [
        "Model"
      ]
    },
    {
      "cell_type": "code",
      "metadata": {
        "id": "q5Yd-SsJeKZP",
        "colab_type": "code",
        "colab": {}
      },
      "source": [
        "from sklearn.linear_model import LinearRegression\n",
        "model = LinearRegression()"
      ],
      "execution_count": 20,
      "outputs": []
    },
    {
      "cell_type": "markdown",
      "metadata": {
        "id": "ND4G4gNYedqC",
        "colab_type": "text"
      },
      "source": [
        "Fitting Regression Model"
      ]
    },
    {
      "cell_type": "code",
      "metadata": {
        "id": "Sgh6LZlneH88",
        "colab_type": "code",
        "colab": {
          "base_uri": "https://localhost:8080/",
          "height": 35
        },
        "outputId": "daad7db8-0c3f-4a53-d009-4a750c0b30d1"
      },
      "source": [
        "model.fit(X_train, Y_train)"
      ],
      "execution_count": 21,
      "outputs": [
        {
          "output_type": "execute_result",
          "data": {
            "text/plain": [
              "LinearRegression(copy_X=True, fit_intercept=True, n_jobs=None, normalize=False)"
            ]
          },
          "metadata": {
            "tags": []
          },
          "execution_count": 21
        }
      ]
    },
    {
      "cell_type": "markdown",
      "metadata": {
        "id": "ew3jxKime96r",
        "colab_type": "text"
      },
      "source": [
        "Predicting test set values"
      ]
    },
    {
      "cell_type": "code",
      "metadata": {
        "id": "q83O2hSOejom",
        "colab_type": "code",
        "colab": {}
      },
      "source": [
        "Y_pred = model.predict(X_test)"
      ],
      "execution_count": 22,
      "outputs": []
    },
    {
      "cell_type": "markdown",
      "metadata": {
        "id": "9_Vry7dvhYqG",
        "colab_type": "text"
      },
      "source": [
        "Plotting the given data against the predicted data"
      ]
    },
    {
      "cell_type": "code",
      "metadata": {
        "id": "ZxLfN35DfE9X",
        "colab_type": "code",
        "colab": {
          "base_uri": "https://localhost:8080/",
          "height": 72
        },
        "outputId": "d08d456a-854c-49eb-f88c-5a9cefe2ab8d"
      },
      "source": [
        "from sklearn import metrics\n",
        "print('R square = ',metrics.r2_score(Y_test, Y_pred))\n",
        "print('Mean squared Error = ',metrics.mean_squared_error(Y_test, Y_pred))\n",
        "print('Mean absolute Error = ',metrics.mean_absolute_error(Y_test, Y_pred))\n"
      ],
      "execution_count": 29,
      "outputs": [
        {
          "output_type": "stream",
          "text": [
            "R square =  0.9017781848910443\n",
            "Mean squared Error =  99.65089464634251\n",
            "Mean absolute Error =  7.913668345670357\n"
          ],
          "name": "stdout"
        }
      ]
    },
    {
      "cell_type": "code",
      "metadata": {
        "id": "2eu-ytsBfNAx",
        "colab_type": "code",
        "colab": {
          "base_uri": "https://localhost:8080/",
          "height": 35
        },
        "outputId": "55ad8be8-ecd4-4b45-abbc-4bd609cdc974"
      },
      "source": [
        "model.score(X_test,Y_test)"
      ],
      "execution_count": 30,
      "outputs": [
        {
          "output_type": "execute_result",
          "data": {
            "text/plain": [
              "0.9017781848910443"
            ]
          },
          "metadata": {
            "tags": []
          },
          "execution_count": 30
        }
      ]
    },
    {
      "cell_type": "code",
      "metadata": {
        "id": "hHL8hiM1iERE",
        "colab_type": "code",
        "colab": {
          "base_uri": "https://localhost:8080/",
          "height": 35
        },
        "outputId": "a3a9450d-d614-4d31-cb2e-b2c27632577d"
      },
      "source": [
        "model.intercept_,model.coef_"
      ],
      "execution_count": 33,
      "outputs": [
        {
          "output_type": "execute_result",
          "data": {
            "text/plain": [
              "(-244.22032134621762, array([19.31316596,  5.96647117]))"
            ]
          },
          "metadata": {
            "tags": []
          },
          "execution_count": 33
        }
      ]
    },
    {
      "cell_type": "code",
      "metadata": {
        "id": "_H8e0nELiaB5",
        "colab_type": "code",
        "colab": {}
      },
      "source": [
        ""
      ],
      "execution_count": null,
      "outputs": []
    }
  ]
}